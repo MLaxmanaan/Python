{
  "nbformat": 4,
  "nbformat_minor": 0,
  "metadata": {
    "colab": {
      "provenance": []
    },
    "kernelspec": {
      "name": "python3",
      "display_name": "Python 3"
    },
    "language_info": {
      "name": "python"
    }
  },
  "cells": [
    {
      "cell_type": "code",
      "execution_count": null,
      "metadata": {
        "colab": {
          "base_uri": "https://localhost:8080/"
        },
        "id": "LynczderHEfx",
        "outputId": "341612f5-47fa-4176-cb7a-3453d0392be7"
      },
      "outputs": [
        {
          "output_type": "stream",
          "name": "stdout",
          "text": [
            "Hello World\n"
          ]
        }
      ],
      "source": [
        "print(\"Hello World\")"
      ]
    },
    {
      "cell_type": "code",
      "source": [
        "# simple function\n",
        "\n",
        "def fun():\n",
        "  print(\"Hello world\")\n",
        "  print(\"welcome\")\n",
        "\n",
        "print(\"before function call\")\n",
        "print(fun())\n",
        "print(\"after function call\")"
      ],
      "metadata": {
        "id": "dCO-PB4XYG-J",
        "outputId": "0649b8f9-1c4a-4173-ea89-5ebdbb50c0ac",
        "colab": {
          "base_uri": "https://localhost:8080/"
        }
      },
      "execution_count": 2,
      "outputs": [
        {
          "output_type": "stream",
          "name": "stdout",
          "text": [
            "before function call\n",
            "Hello world\n",
            "welcome\n",
            "None\n",
            "after function call\n"
          ]
        }
      ]
    },
    {
      "cell_type": "code",
      "source": [
        "# program to print the square of no\n",
        "\n",
        "def square():\n",
        "  x = int(input(\"enter a no\"))\n",
        "  y = x**2\n",
        "  print(\"Square of\",x,\"is\",y)\n",
        "\n",
        "square()"
      ],
      "metadata": {
        "id": "6wok2-JIZIS4",
        "outputId": "b5ee82a8-0e80-4c01-b28f-4f5c3bcb02b5",
        "colab": {
          "base_uri": "https://localhost:8080/"
        }
      },
      "execution_count": 3,
      "outputs": [
        {
          "output_type": "stream",
          "name": "stdout",
          "text": [
            "enter a no5\n",
            "Square of 5 is 25\n"
          ]
        }
      ]
    }
  ]
}