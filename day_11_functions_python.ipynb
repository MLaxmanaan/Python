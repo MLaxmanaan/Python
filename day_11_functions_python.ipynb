{
  "nbformat": 4,
  "nbformat_minor": 0,
  "metadata": {
    "colab": {
      "provenance": [],
      "include_colab_link": true
    },
    "kernelspec": {
      "name": "python3",
      "display_name": "Python 3"
    },
    "language_info": {
      "name": "python"
    }
  },
  "cells": [
    {
      "cell_type": "markdown",
      "metadata": {
        "id": "view-in-github",
        "colab_type": "text"
      },
      "source": [
        "<a href=\"https://colab.research.google.com/github/MLaxmanaan/Python/blob/main/day_11_functions_python.ipynb\" target=\"_parent\"><img src=\"https://colab.research.google.com/assets/colab-badge.svg\" alt=\"Open In Colab\"/></a>"
      ]
    },
    {
      "cell_type": "code",
      "execution_count": null,
      "metadata": {
        "colab": {
          "base_uri": "https://localhost:8080/"
        },
        "id": "LynczderHEfx",
        "outputId": "341612f5-47fa-4176-cb7a-3453d0392be7"
      },
      "outputs": [
        {
          "output_type": "stream",
          "name": "stdout",
          "text": [
            "Hello World\n"
          ]
        }
      ],
      "source": [
        "print(\"Hello World\")"
      ]
    },
    {
      "cell_type": "code",
      "source": [
        "# simple function\n",
        "\n",
        "def fun():\n",
        "  print(\"Hello world\")\n",
        "  print(\"welcome\")\n",
        "\n",
        "print(\"before function call\")\n",
        "print(fun())\n",
        "print(\"after function call\")"
      ],
      "metadata": {
        "colab": {
          "base_uri": "https://localhost:8080/"
        },
        "id": "dCO-PB4XYG-J",
        "outputId": "0649b8f9-1c4a-4173-ea89-5ebdbb50c0ac"
      },
      "execution_count": null,
      "outputs": [
        {
          "output_type": "stream",
          "name": "stdout",
          "text": [
            "before function call\n",
            "Hello world\n",
            "welcome\n",
            "None\n",
            "after function call\n"
          ]
        }
      ]
    },
    {
      "cell_type": "code",
      "source": [
        "# program to print the square of no\n",
        "\n",
        "def square():\n",
        "  x = int(input(\"enter a no\"))\n",
        "  y = x**2\n",
        "  print(\"Square of\",x,\"is\",y)\n",
        "\n",
        "square()"
      ],
      "metadata": {
        "colab": {
          "base_uri": "https://localhost:8080/"
        },
        "id": "6wok2-JIZIS4",
        "outputId": "b5ee82a8-0e80-4c01-b28f-4f5c3bcb02b5"
      },
      "execution_count": null,
      "outputs": [
        {
          "output_type": "stream",
          "name": "stdout",
          "text": [
            "enter a no5\n",
            "Square of 5 is 25\n"
          ]
        }
      ]
    },
    {
      "cell_type": "code",
      "source": [
        "# membership operator\n",
        "\n",
        "if 'b' not in 'apple':\n",
        "  print(\"yes\")\n",
        "else:\n",
        "  print(\"no\")\n"
      ],
      "metadata": {
        "colab": {
          "base_uri": "https://localhost:8080/"
        },
        "id": "wJ1XJL-3pvzd",
        "outputId": "3ad9be59-c0e8-4008-903d-2318d570aac1"
      },
      "execution_count": null,
      "outputs": [
        {
          "output_type": "stream",
          "name": "stdout",
          "text": [
            "yes\n"
          ]
        }
      ]
    },
    {
      "cell_type": "code",
      "source": [
        "# count method\n",
        "\n",
        "main_string = input(\"enter a string\")\n",
        "sub_string = input(\"enter a substring\")\n",
        "\n",
        "c = main_string.count(sub_string,0,3)\n",
        "print(c)"
      ],
      "metadata": {
        "id": "nnplwOkTq05v",
        "colab": {
          "base_uri": "https://localhost:8080/"
        },
        "outputId": "2a346be9-30c0-4d76-d22b-57e04821ceff"
      },
      "execution_count": 4,
      "outputs": [
        {
          "output_type": "stream",
          "name": "stdout",
          "text": [
            "enter a stringBangalore\n",
            "enter a substringa\n",
            "1\n"
          ]
        }
      ]
    },
    {
      "cell_type": "code",
      "source": [
        "# startswith method\n",
        "\n",
        "mobile_no = input(\"Enter mobile number with country code\")\n",
        "\n",
        "if mobile_no.startswith(\"9421\", 4, 13):\n",
        "  print(\"India Mumbai\")\n",
        "elif mobile_no.startswith(\"+1\"):\n",
        "  print(\"USA\")"
      ],
      "metadata": {
        "colab": {
          "base_uri": "https://localhost:8080/"
        },
        "id": "CgH8FJTduROp",
        "outputId": "a3c7cf24-69b3-4723-86dd-c077d24b841d"
      },
      "execution_count": 10,
      "outputs": [
        {
          "output_type": "stream",
          "name": "stdout",
          "text": [
            "Enter mobile number with country code+91 9421964168\n",
            "India Mumbai\n"
          ]
        }
      ]
    },
    {
      "cell_type": "code",
      "source": [
        "# endswith method\n",
        "\n",
        "url = input(\"Enter a URL\")\n",
        "\n",
        "if url.endswith(\".com\"):\n",
        "  print(\"commercial website\")"
      ],
      "metadata": {
        "colab": {
          "base_uri": "https://localhost:8080/"
        },
        "id": "Lv4dxTFLygEo",
        "outputId": "f9db8685-45e0-4c23-b1cf-45ba14a31b11"
      },
      "execution_count": 13,
      "outputs": [
        {
          "output_type": "stream",
          "name": "stdout",
          "text": [
            "Enter a URLLakshmanan.M@nttdata.com\n",
            "commercial website\n"
          ]
        }
      ]
    },
    {
      "cell_type": "code",
      "source": [
        "# lstrip method\n",
        "\n",
        "name = input(\"Enter your name\")\n",
        "print(name)\n",
        "\n",
        "name = name.lstrip()\n",
        "print(name)\n",
        "\n"
      ],
      "metadata": {
        "colab": {
          "base_uri": "https://localhost:8080/"
        },
        "id": "sbgzmRoH0IU2",
        "outputId": "5ad694ab-939d-44ad-acdf-b080fb926418"
      },
      "execution_count": 14,
      "outputs": [
        {
          "output_type": "stream",
          "name": "stdout",
          "text": [
            "Enter your name     M.LAXMANAAN\n",
            "     M.LAXMANAAN\n",
            "M.LAXMANAAN\n"
          ]
        }
      ]
    },
    {
      "cell_type": "code",
      "source": [
        "url = [\"http://www.myntra.com\",\"http://www.ajio.com\",\"http://www.cricbuzz.com\"]\n",
        "\n",
        "for i in url:\n",
        "  #i = i.lstrip(\"http://www.\")\n",
        "  i = i.lstrip(\"htp:/w.\")\n",
        "  print(i)"
      ],
      "metadata": {
        "colab": {
          "base_uri": "https://localhost:8080/"
        },
        "id": "dqQO2LnQ0oyE",
        "outputId": "7853bb9c-73e5-4abd-c555-ef9ccd550b67"
      },
      "execution_count": 16,
      "outputs": [
        {
          "output_type": "stream",
          "name": "stdout",
          "text": [
            "myntra.com\n",
            "ajio.com\n",
            "cricbuzz.com\n"
          ]
        }
      ]
    },
    {
      "cell_type": "code",
      "source": [
        "url = [\"http://www.myntra.com\",\"http://www.ajio.com\",\"http://www.cricbuzz.com\"]\n",
        "for i in url:\n",
        "  i = i.rstrip(\"htp.com\")\n",
        "  print(i)"
      ],
      "metadata": {
        "colab": {
          "base_uri": "https://localhost:8080/"
        },
        "id": "-cIifvPk5jCR",
        "outputId": "a000ceff-443c-4bbf-fe88-98bcd79a13a7"
      },
      "execution_count": 18,
      "outputs": [
        {
          "output_type": "stream",
          "name": "stdout",
          "text": [
            "http://www.myntra\n",
            "http://www.aji\n",
            "http://www.cricbuzz\n"
          ]
        }
      ]
    },
    {
      "cell_type": "code",
      "source": [
        "url = [\"http://www.myntra.com\",\"http://www.ajio.com\",\"http://www.cricbuzz.com\"]\n",
        "for i in url:\n",
        "  i = i.strip(\"wwwhtp:/.cmo\")\n",
        "  print(i)"
      ],
      "metadata": {
        "colab": {
          "base_uri": "https://localhost:8080/"
        },
        "id": "v9a9lwE68W8N",
        "outputId": "b1e9f751-0208-4732-bbcb-3a66194088c0"
      },
      "execution_count": 24,
      "outputs": [
        {
          "output_type": "stream",
          "name": "stdout",
          "text": [
            "yntra\n",
            "aji\n",
            "ricbuzz\n"
          ]
        }
      ]
    },
    {
      "cell_type": "code",
      "source": [
        "print(ord('a'))\n",
        "print(ord('A'))\n",
        "print(ord('c'))\n",
        "print(ord('D'))"
      ],
      "metadata": {
        "colab": {
          "base_uri": "https://localhost:8080/"
        },
        "id": "DKCv_euwX74M",
        "outputId": "301a3d69-95e9-432e-c1a2-b5f05bb9fc80"
      },
      "execution_count": 25,
      "outputs": [
        {
          "output_type": "stream",
          "name": "stdout",
          "text": [
            "97\n",
            "65\n",
            "99\n",
            "68\n"
          ]
        }
      ]
    },
    {
      "cell_type": "code",
      "source": [
        "s1 = \"AAanand\"\n",
        "s2 = \"ABhijith\"\n",
        "\n",
        "if s1!=s2:\n",
        "  print(\"s1 is greater\")\n",
        "else:\n",
        "  print(\"s2 is greater\")"
      ],
      "metadata": {
        "colab": {
          "base_uri": "https://localhost:8080/"
        },
        "id": "BGubKZMXYOy2",
        "outputId": "95c34167-6340-47e3-9a65-b81437366adc"
      },
      "execution_count": 27,
      "outputs": [
        {
          "output_type": "stream",
          "name": "stdout",
          "text": [
            "s1 is greater\n"
          ]
        }
      ]
    },
    {
      "cell_type": "code",
      "source": [
        "# replace method\n",
        "\n",
        "s1 = \"I live in Mumbai, Mumbai is a beautiful place\"\n",
        "\n",
        "s1.replace(\"Mumbai\",\"Bangalore\")"
      ],
      "metadata": {
        "colab": {
          "base_uri": "https://localhost:8080/",
          "height": 35
        },
        "id": "ffQ_-oEKZBQI",
        "outputId": "d284f84c-c581-46d5-f109-d2980a208f9e"
      },
      "execution_count": 30,
      "outputs": [
        {
          "output_type": "execute_result",
          "data": {
            "text/plain": [
              "'I live in Bangalore, Bangalore is a beautiful place'"
            ],
            "application/vnd.google.colaboratory.intrinsic+json": {
              "type": "string"
            }
          },
          "metadata": {},
          "execution_count": 30
        }
      ]
    },
    {
      "cell_type": "code",
      "source": [
        "# find method\n",
        "\n",
        "s1 = \"I live in Mumbai, Mumbai is a beautiful place\"\n",
        "\n",
        "res = s1.find(\"Mumbai\")\n",
        "\n",
        "print(res)"
      ],
      "metadata": {
        "colab": {
          "base_uri": "https://localhost:8080/"
        },
        "id": "69nZ2qhCaATj",
        "outputId": "43fbb295-6d88-4f2e-9c4e-9f6623391a1e"
      },
      "execution_count": 31,
      "outputs": [
        {
          "output_type": "stream",
          "name": "stdout",
          "text": [
            "10\n"
          ]
        }
      ]
    },
    {
      "cell_type": "code",
      "source": [
        "# rfind method\n",
        "\n",
        "s1 = \"I live in Mumbai, Mumbai is a beautiful place\"\n",
        "\n",
        "res = s1.rfind(\"Mumbai\")\n",
        "\n",
        "print(res)"
      ],
      "metadata": {
        "colab": {
          "base_uri": "https://localhost:8080/"
        },
        "id": "U3t5k0H9a47M",
        "outputId": "4f78d75c-3ffc-4a3e-9511-8376bca876da"
      },
      "execution_count": 32,
      "outputs": [
        {
          "output_type": "stream",
          "name": "stdout",
          "text": [
            "18\n"
          ]
        }
      ]
    },
    {
      "cell_type": "code",
      "source": [
        "# split method\n",
        "\n",
        "s = \"I live in Mumbai\"\n",
        "\n",
        "w = \"India, USA, Australia\"\n",
        "\n",
        "k = w.split()\n",
        "\n",
        "print(k)"
      ],
      "metadata": {
        "colab": {
          "base_uri": "https://localhost:8080/"
        },
        "id": "XVe_XOgZcKs_",
        "outputId": "890ba1a0-05a8-4dcf-9029-33ab15791d79"
      },
      "execution_count": 35,
      "outputs": [
        {
          "output_type": "stream",
          "name": "stdout",
          "text": [
            "['India,', 'USA,', 'Australia']\n"
          ]
        }
      ]
    },
    {
      "cell_type": "code",
      "source": [
        "s = \"I live in Mumbai, Mumbai is a beautiful place\"\n",
        "\n",
        "n = 0\n",
        "cnt = 0\n",
        "r = 0\n",
        "\n",
        "while r != -1:\n",
        "  r = s.find(\"Mumbai\", n)\n",
        "  n = r + 1\n",
        "  if r!= -1:\n",
        "    cnt = cnt + 1\n",
        "print(cnt)\n"
      ],
      "metadata": {
        "colab": {
          "base_uri": "https://localhost:8080/"
        },
        "id": "uyCt-FRYdoxG",
        "outputId": "dd8b244c-0ca4-4dfc-d686-98c8f0553714"
      },
      "execution_count": 44,
      "outputs": [
        {
          "output_type": "stream",
          "name": "stdout",
          "text": [
            "2\n"
          ]
        }
      ]
    }
  ]
}