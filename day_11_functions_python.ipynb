{
  "nbformat": 4,
  "nbformat_minor": 0,
  "metadata": {
    "colab": {
      "provenance": [],
      "include_colab_link": true
    },
    "kernelspec": {
      "name": "python3",
      "display_name": "Python 3"
    },
    "language_info": {
      "name": "python"
    }
  },
  "cells": [
    {
      "cell_type": "markdown",
      "metadata": {
        "id": "view-in-github",
        "colab_type": "text"
      },
      "source": [
        "<a href=\"https://colab.research.google.com/github/MLaxmanaan/Python/blob/main/day_11_functions_python.ipynb\" target=\"_parent\"><img src=\"https://colab.research.google.com/assets/colab-badge.svg\" alt=\"Open In Colab\"/></a>"
      ]
    },
    {
      "cell_type": "code",
      "execution_count": null,
      "metadata": {
        "colab": {
          "base_uri": "https://localhost:8080/"
        },
        "id": "LynczderHEfx",
        "outputId": "341612f5-47fa-4176-cb7a-3453d0392be7"
      },
      "outputs": [
        {
          "output_type": "stream",
          "name": "stdout",
          "text": [
            "Hello World\n"
          ]
        }
      ],
      "source": [
        "print(\"Hello World\")"
      ]
    },
    {
      "cell_type": "code",
      "source": [
        "# simple function\n",
        "\n",
        "def fun():\n",
        "  print(\"Hello world\")\n",
        "  print(\"welcome\")\n",
        "\n",
        "print(\"before function call\")\n",
        "print(fun())\n",
        "print(\"after function call\")"
      ],
      "metadata": {
        "colab": {
          "base_uri": "https://localhost:8080/"
        },
        "id": "dCO-PB4XYG-J",
        "outputId": "0649b8f9-1c4a-4173-ea89-5ebdbb50c0ac"
      },
      "execution_count": null,
      "outputs": [
        {
          "output_type": "stream",
          "name": "stdout",
          "text": [
            "before function call\n",
            "Hello world\n",
            "welcome\n",
            "None\n",
            "after function call\n"
          ]
        }
      ]
    },
    {
      "cell_type": "code",
      "source": [
        "# program to print the square of no\n",
        "\n",
        "def square():\n",
        "  x = int(input(\"enter a no\"))\n",
        "  y = x**2\n",
        "  print(\"Square of\",x,\"is\",y)\n",
        "\n",
        "square()"
      ],
      "metadata": {
        "colab": {
          "base_uri": "https://localhost:8080/"
        },
        "id": "6wok2-JIZIS4",
        "outputId": "b5ee82a8-0e80-4c01-b28f-4f5c3bcb02b5"
      },
      "execution_count": null,
      "outputs": [
        {
          "output_type": "stream",
          "name": "stdout",
          "text": [
            "enter a no5\n",
            "Square of 5 is 25\n"
          ]
        }
      ]
    },
    {
      "cell_type": "code",
      "source": [
        "# membership operator\n",
        "\n",
        "if 'b' not in 'apple':\n",
        "  print(\"yes\")\n",
        "else:\n",
        "  print(\"no\")\n"
      ],
      "metadata": {
        "colab": {
          "base_uri": "https://localhost:8080/"
        },
        "id": "wJ1XJL-3pvzd",
        "outputId": "3ad9be59-c0e8-4008-903d-2318d570aac1"
      },
      "execution_count": null,
      "outputs": [
        {
          "output_type": "stream",
          "name": "stdout",
          "text": [
            "yes\n"
          ]
        }
      ]
    },
    {
      "cell_type": "code",
      "source": [
        "# count method\n",
        "\n",
        "main_string = input(\"enter a string\")\n",
        "sub_string = input(\"enter a substring\")\n",
        "\n",
        "c = main_string.count(sub_string,0,3)\n",
        "print(c)"
      ],
      "metadata": {
        "id": "nnplwOkTq05v",
        "colab": {
          "base_uri": "https://localhost:8080/"
        },
        "outputId": "2a346be9-30c0-4d76-d22b-57e04821ceff"
      },
      "execution_count": null,
      "outputs": [
        {
          "output_type": "stream",
          "name": "stdout",
          "text": [
            "enter a stringBangalore\n",
            "enter a substringa\n",
            "1\n"
          ]
        }
      ]
    },
    {
      "cell_type": "code",
      "source": [
        "# startswith method\n",
        "\n",
        "mobile_no = input(\"Enter mobile number with country code\")\n",
        "\n",
        "if mobile_no.startswith(\"9421\", 4, 13):\n",
        "  print(\"India Mumbai\")\n",
        "elif mobile_no.startswith(\"+1\"):\n",
        "  print(\"USA\")"
      ],
      "metadata": {
        "colab": {
          "base_uri": "https://localhost:8080/"
        },
        "id": "CgH8FJTduROp",
        "outputId": "a3c7cf24-69b3-4723-86dd-c077d24b841d"
      },
      "execution_count": null,
      "outputs": [
        {
          "output_type": "stream",
          "name": "stdout",
          "text": [
            "Enter mobile number with country code+91 9421964168\n",
            "India Mumbai\n"
          ]
        }
      ]
    },
    {
      "cell_type": "code",
      "source": [
        "# endswith method\n",
        "\n",
        "url = input(\"Enter a URL\")\n",
        "\n",
        "if url.endswith(\".com\"):\n",
        "  print(\"commercial website\")"
      ],
      "metadata": {
        "colab": {
          "base_uri": "https://localhost:8080/"
        },
        "id": "Lv4dxTFLygEo",
        "outputId": "f9db8685-45e0-4c23-b1cf-45ba14a31b11"
      },
      "execution_count": null,
      "outputs": [
        {
          "output_type": "stream",
          "name": "stdout",
          "text": [
            "Enter a URLLakshmanan.M@nttdata.com\n",
            "commercial website\n"
          ]
        }
      ]
    },
    {
      "cell_type": "code",
      "source": [
        "# lstrip method\n",
        "\n",
        "name = input(\"Enter your name\")\n",
        "print(name)\n",
        "\n",
        "name = name.lstrip()\n",
        "print(name)\n",
        "\n"
      ],
      "metadata": {
        "colab": {
          "base_uri": "https://localhost:8080/"
        },
        "id": "sbgzmRoH0IU2",
        "outputId": "5ad694ab-939d-44ad-acdf-b080fb926418"
      },
      "execution_count": null,
      "outputs": [
        {
          "output_type": "stream",
          "name": "stdout",
          "text": [
            "Enter your name     M.LAXMANAAN\n",
            "     M.LAXMANAAN\n",
            "M.LAXMANAAN\n"
          ]
        }
      ]
    },
    {
      "cell_type": "code",
      "source": [
        "url = [\"http://www.myntra.com\",\"http://www.ajio.com\",\"http://www.cricbuzz.com\"]\n",
        "\n",
        "for i in url:\n",
        "  #i = i.lstrip(\"http://www.\")\n",
        "  i = i.lstrip(\"htp:/w.\")\n",
        "  print(i)"
      ],
      "metadata": {
        "colab": {
          "base_uri": "https://localhost:8080/"
        },
        "id": "dqQO2LnQ0oyE",
        "outputId": "7853bb9c-73e5-4abd-c555-ef9ccd550b67"
      },
      "execution_count": null,
      "outputs": [
        {
          "output_type": "stream",
          "name": "stdout",
          "text": [
            "myntra.com\n",
            "ajio.com\n",
            "cricbuzz.com\n"
          ]
        }
      ]
    },
    {
      "cell_type": "code",
      "source": [
        "url = [\"http://www.myntra.com\",\"http://www.ajio.com\",\"http://www.cricbuzz.com\"]\n",
        "for i in url:\n",
        "  i = i.rstrip(\"htp.com\")\n",
        "  print(i)"
      ],
      "metadata": {
        "colab": {
          "base_uri": "https://localhost:8080/"
        },
        "id": "-cIifvPk5jCR",
        "outputId": "a000ceff-443c-4bbf-fe88-98bcd79a13a7"
      },
      "execution_count": null,
      "outputs": [
        {
          "output_type": "stream",
          "name": "stdout",
          "text": [
            "http://www.myntra\n",
            "http://www.aji\n",
            "http://www.cricbuzz\n"
          ]
        }
      ]
    },
    {
      "cell_type": "code",
      "source": [
        "url = [\"http://www.myntra.com\",\"http://www.ajio.com\",\"http://www.cricbuzz.com\"]\n",
        "for i in url:\n",
        "  i = i.strip(\"wwwhtp:/.cmo\")\n",
        "  print(i)"
      ],
      "metadata": {
        "colab": {
          "base_uri": "https://localhost:8080/"
        },
        "id": "v9a9lwE68W8N",
        "outputId": "b1e9f751-0208-4732-bbcb-3a66194088c0"
      },
      "execution_count": null,
      "outputs": [
        {
          "output_type": "stream",
          "name": "stdout",
          "text": [
            "yntra\n",
            "aji\n",
            "ricbuzz\n"
          ]
        }
      ]
    },
    {
      "cell_type": "code",
      "source": [
        "print(ord('a'))\n",
        "print(ord('A'))\n",
        "print(ord('c'))\n",
        "print(ord('D'))"
      ],
      "metadata": {
        "colab": {
          "base_uri": "https://localhost:8080/"
        },
        "id": "DKCv_euwX74M",
        "outputId": "301a3d69-95e9-432e-c1a2-b5f05bb9fc80"
      },
      "execution_count": null,
      "outputs": [
        {
          "output_type": "stream",
          "name": "stdout",
          "text": [
            "97\n",
            "65\n",
            "99\n",
            "68\n"
          ]
        }
      ]
    },
    {
      "cell_type": "code",
      "source": [
        "s1 = \"AAanand\"\n",
        "s2 = \"ABhijith\"\n",
        "\n",
        "if s1!=s2:\n",
        "  print(\"s1 is greater\")\n",
        "else:\n",
        "  print(\"s2 is greater\")"
      ],
      "metadata": {
        "colab": {
          "base_uri": "https://localhost:8080/"
        },
        "id": "BGubKZMXYOy2",
        "outputId": "95c34167-6340-47e3-9a65-b81437366adc"
      },
      "execution_count": null,
      "outputs": [
        {
          "output_type": "stream",
          "name": "stdout",
          "text": [
            "s1 is greater\n"
          ]
        }
      ]
    },
    {
      "cell_type": "code",
      "source": [
        "# replace method\n",
        "\n",
        "s1 = \"I live in Mumbai, Mumbai is a beautiful place\"\n",
        "\n",
        "s1.replace(\"Mumbai\",\"Bangalore\")"
      ],
      "metadata": {
        "colab": {
          "base_uri": "https://localhost:8080/",
          "height": 35
        },
        "id": "ffQ_-oEKZBQI",
        "outputId": "d284f84c-c581-46d5-f109-d2980a208f9e"
      },
      "execution_count": null,
      "outputs": [
        {
          "output_type": "execute_result",
          "data": {
            "text/plain": [
              "'I live in Bangalore, Bangalore is a beautiful place'"
            ],
            "application/vnd.google.colaboratory.intrinsic+json": {
              "type": "string"
            }
          },
          "metadata": {},
          "execution_count": 30
        }
      ]
    },
    {
      "cell_type": "code",
      "source": [
        "# find method\n",
        "\n",
        "s1 = \"I live in Mumbai, Mumbai is a beautiful place\"\n",
        "\n",
        "res = s1.find(\"Mumbai\")\n",
        "\n",
        "print(res)"
      ],
      "metadata": {
        "colab": {
          "base_uri": "https://localhost:8080/"
        },
        "id": "69nZ2qhCaATj",
        "outputId": "43fbb295-6d88-4f2e-9c4e-9f6623391a1e"
      },
      "execution_count": null,
      "outputs": [
        {
          "output_type": "stream",
          "name": "stdout",
          "text": [
            "10\n"
          ]
        }
      ]
    },
    {
      "cell_type": "code",
      "source": [
        "# rfind method\n",
        "\n",
        "s1 = \"I live in Mumbai, Mumbai is a beautiful place\"\n",
        "\n",
        "res = s1.rfind(\"Mumbai\")\n",
        "\n",
        "print(res)"
      ],
      "metadata": {
        "colab": {
          "base_uri": "https://localhost:8080/"
        },
        "id": "U3t5k0H9a47M",
        "outputId": "4f78d75c-3ffc-4a3e-9511-8376bca876da"
      },
      "execution_count": null,
      "outputs": [
        {
          "output_type": "stream",
          "name": "stdout",
          "text": [
            "18\n"
          ]
        }
      ]
    },
    {
      "cell_type": "code",
      "source": [
        "# split method\n",
        "\n",
        "s = \"I live in Mumbai\"\n",
        "\n",
        "w = \"India, USA, Australia\"\n",
        "\n",
        "k = w.split()\n",
        "\n",
        "print(k)"
      ],
      "metadata": {
        "colab": {
          "base_uri": "https://localhost:8080/"
        },
        "id": "XVe_XOgZcKs_",
        "outputId": "890ba1a0-05a8-4dcf-9029-33ab15791d79"
      },
      "execution_count": null,
      "outputs": [
        {
          "output_type": "stream",
          "name": "stdout",
          "text": [
            "['India,', 'USA,', 'Australia']\n"
          ]
        }
      ]
    },
    {
      "cell_type": "code",
      "source": [
        "s = \"I live in Mumbai, Mumbai is a beautiful place\"\n",
        "\n",
        "n = 0\n",
        "cnt = 0\n",
        "r = 0\n",
        "\n",
        "while r != -1:\n",
        "  r = s.find(\"Mumbai\", n)\n",
        "  n = r + 1\n",
        "  if r!= -1:\n",
        "    cnt = cnt + 1\n",
        "print(cnt)\n"
      ],
      "metadata": {
        "colab": {
          "base_uri": "https://localhost:8080/"
        },
        "id": "uyCt-FRYdoxG",
        "outputId": "dd8b244c-0ca4-4dfc-d686-98c8f0553714"
      },
      "execution_count": null,
      "outputs": [
        {
          "output_type": "stream",
          "name": "stdout",
          "text": [
            "2\n"
          ]
        }
      ]
    },
    {
      "cell_type": "code",
      "source": [
        "# list\n",
        "\n",
        "l1 = [10,20,3.14,\"NTT Data\", 2+3j,[100,200,300]]\n",
        "print(l1)\n",
        "print(type(l1))\n",
        "\n",
        "print(l1[0], l1[-2])"
      ],
      "metadata": {
        "id": "enEhmY0t--Bk",
        "outputId": "ce1e1c86-e4a7-4363-bfc4-27cc5a672420",
        "colab": {
          "base_uri": "https://localhost:8080/"
        }
      },
      "execution_count": null,
      "outputs": [
        {
          "output_type": "stream",
          "name": "stdout",
          "text": [
            "[10, 20, 3.14, 'NTT Data', (2+3j), [100, 200, 300]]\n",
            "<class 'list'>\n",
            "10 (2+3j)\n"
          ]
        }
      ]
    },
    {
      "cell_type": "code",
      "source": [
        "# slicing in list\n",
        "\n",
        "l1 = [10,20,3.14,\"NTT Data\", 2+3j,[100,200,300]]\n",
        "\n",
        "print(l1[0:4])\n",
        "print(l1[0:4:2])\n",
        "print(l1[::])\n",
        "print(l1[::-1])"
      ],
      "metadata": {
        "id": "DK1FT6k6BMLx",
        "outputId": "3eb3c26e-2a05-4249-f3ce-b3c3d75d91bd",
        "colab": {
          "base_uri": "https://localhost:8080/"
        }
      },
      "execution_count": null,
      "outputs": [
        {
          "output_type": "stream",
          "name": "stdout",
          "text": [
            "[10, 20, 3.14, 'NTT Data']\n",
            "[10, 3.14]\n",
            "[10, 20, 3.14, 'NTT Data', (2+3j), [100, 200, 300]]\n",
            "[[100, 200, 300], (2+3j), 'NTT Data', 3.14, 20, 10]\n"
          ]
        }
      ]
    },
    {
      "cell_type": "code",
      "source": [
        "# concatenation of list\n",
        "\n",
        "l1 = [10,20,30]\n",
        "l2 = [50,60,70]\n",
        "\n",
        "l3 = l1 + l2\n",
        "\n",
        "print(l1)\n",
        "print(l2)\n",
        "print(l3)\n",
        "\n",
        "print(id(l1))\n",
        "print(id(l2))\n",
        "print(id(l3))"
      ],
      "metadata": {
        "id": "iaVp5NclCVu7",
        "outputId": "bd9e4868-f87e-430e-b5e1-1d8b0df54235",
        "colab": {
          "base_uri": "https://localhost:8080/"
        }
      },
      "execution_count": null,
      "outputs": [
        {
          "output_type": "stream",
          "name": "stdout",
          "text": [
            "[10, 20, 30]\n",
            "[50, 60, 70]\n",
            "[10, 20, 30, 50, 60, 70]\n",
            "136547865139776\n",
            "136547300657920\n",
            "136547300653056\n"
          ]
        }
      ]
    },
    {
      "cell_type": "code",
      "source": [
        "# multiplication of list\n",
        "\n",
        "l1 = [10, 20, 30]\n",
        "l2 = l1 * 3\n",
        "\n",
        "print(l1*2)\n",
        "print(l2)"
      ],
      "metadata": {
        "id": "gFCThvvCDa-R",
        "outputId": "8033e325-7d3b-4fad-f195-f5b306a20457",
        "colab": {
          "base_uri": "https://localhost:8080/"
        }
      },
      "execution_count": null,
      "outputs": [
        {
          "output_type": "stream",
          "name": "stdout",
          "text": [
            "[10, 20, 30, 10, 20, 30]\n",
            "[10, 20, 30, 10, 20, 30, 10, 20, 30]\n"
          ]
        }
      ]
    },
    {
      "cell_type": "code",
      "source": [
        "# iteration of list\n",
        "\n",
        "l1 = [10, 20, 30, 40, 50]\n",
        "\n",
        "for i in l1:\n",
        "  print(i+5)\n"
      ],
      "metadata": {
        "id": "55CZHezqD2I3",
        "outputId": "c0600863-b2a1-4c36-de84-87b70a34d7b0",
        "colab": {
          "base_uri": "https://localhost:8080/"
        }
      },
      "execution_count": null,
      "outputs": [
        {
          "output_type": "stream",
          "name": "stdout",
          "text": [
            "15\n",
            "25\n",
            "35\n",
            "45\n",
            "55\n"
          ]
        }
      ]
    },
    {
      "cell_type": "code",
      "source": [
        "# membership operator\n",
        "\n",
        "print(100 in [10,20,30,40])"
      ],
      "metadata": {
        "id": "WgwfQy1qETlq",
        "outputId": "81099425-ea34-4de9-800a-75853e519db8",
        "colab": {
          "base_uri": "https://localhost:8080/"
        }
      },
      "execution_count": null,
      "outputs": [
        {
          "output_type": "stream",
          "name": "stdout",
          "text": [
            "False\n"
          ]
        }
      ]
    },
    {
      "cell_type": "code",
      "source": [
        "print(100 not in [100,20,30,40])"
      ],
      "metadata": {
        "id": "ygxM-fm4Ekfr",
        "outputId": "b09034fb-dd5f-434d-8ae5-044f2564e2fe",
        "colab": {
          "base_uri": "https://localhost:8080/"
        }
      },
      "execution_count": null,
      "outputs": [
        {
          "output_type": "stream",
          "name": "stdout",
          "text": [
            "False\n"
          ]
        }
      ]
    },
    {
      "cell_type": "code",
      "source": [
        "# deletion of a list\n",
        "\n",
        "l1 = [10, 20, 30, 40]\n",
        "\n",
        "print(l1)\n",
        "\n",
        "del l1\n",
        "\n",
        "print(l1)"
      ],
      "metadata": {
        "id": "bY5uvp6xE24_",
        "outputId": "a0829f2b-1993-47da-b686-995421ae5338",
        "colab": {
          "base_uri": "https://localhost:8080/",
          "height": 193
        }
      },
      "execution_count": null,
      "outputs": [
        {
          "output_type": "stream",
          "name": "stdout",
          "text": [
            "[10, 20, 30, 40]\n"
          ]
        },
        {
          "output_type": "error",
          "ename": "NameError",
          "evalue": "name 'l1' is not defined",
          "traceback": [
            "\u001b[0;31m---------------------------------------------------------------------------\u001b[0m",
            "\u001b[0;31mNameError\u001b[0m                                 Traceback (most recent call last)",
            "\u001b[0;32m<ipython-input-19-30dddbddd065>\u001b[0m in \u001b[0;36m<cell line: 0>\u001b[0;34m()\u001b[0m\n\u001b[1;32m      7\u001b[0m \u001b[0;32mdel\u001b[0m \u001b[0ml1\u001b[0m\u001b[0;34m\u001b[0m\u001b[0;34m\u001b[0m\u001b[0m\n\u001b[1;32m      8\u001b[0m \u001b[0;34m\u001b[0m\u001b[0m\n\u001b[0;32m----> 9\u001b[0;31m \u001b[0mprint\u001b[0m\u001b[0;34m(\u001b[0m\u001b[0ml1\u001b[0m\u001b[0;34m)\u001b[0m\u001b[0;34m\u001b[0m\u001b[0;34m\u001b[0m\u001b[0m\n\u001b[0m",
            "\u001b[0;31mNameError\u001b[0m: name 'l1' is not defined"
          ]
        }
      ]
    },
    {
      "cell_type": "code",
      "source": [
        "# inbuilt functions\n",
        "# max()\n",
        "\n",
        "l1 = [10, 200, 3, 500, 80]\n",
        "print(max(l1))\n",
        "\n",
        "l2 = [\"aaa\", \"bbbb\", \"ccc\"]\n",
        "print(max(l2))\n",
        "\n",
        "l3 = [10, 20, \"nttdata\"]\n",
        "\n",
        "l4 = [\"aaa\", \"bbbb\", \"cccasdv\"]\n",
        "print(max(l4, key = len))\n",
        "\n",
        "l5 = []\n",
        "print(max(l5, default = 0))"
      ],
      "metadata": {
        "id": "N3gxcJbLGYog",
        "outputId": "b2f67e8e-856a-4774-9258-92561067f7c7",
        "colab": {
          "base_uri": "https://localhost:8080/"
        }
      },
      "execution_count": null,
      "outputs": [
        {
          "output_type": "stream",
          "name": "stdout",
          "text": [
            "500\n",
            "ccc\n",
            "cccasdv\n",
            "0\n"
          ]
        }
      ]
    },
    {
      "cell_type": "code",
      "source": [
        "# append method\n",
        "\n",
        "l1 = [10, 20, 30, 40]\n",
        "\n",
        "l1.append(50)\n",
        "l1.append([1,2,3])\n",
        "\n",
        "print(l1)\n",
        "\n"
      ],
      "metadata": {
        "id": "aWA3kA1wKNAg",
        "outputId": "ab8b786b-6c78-4540-88f4-0c5ac68a685e",
        "colab": {
          "base_uri": "https://localhost:8080/"
        }
      },
      "execution_count": null,
      "outputs": [
        {
          "output_type": "stream",
          "name": "stdout",
          "text": [
            "[10, 20, 30, 40, 50, [1, 2, 3]]\n"
          ]
        }
      ]
    },
    {
      "cell_type": "code",
      "source": [
        "l1 = [10, 20, 30, 40, 50]\n",
        "\n",
        "for i in range(6) :\n",
        "  i1 = int(input(\"Enter a no\"))\n",
        "  l1.append(i1)\n",
        "  i = i + 1\n",
        "print(l1)\n"
      ],
      "metadata": {
        "id": "Tq_xPyHALUrK",
        "outputId": "67d76754-a140-4c18-de04-38f3efa8f591",
        "colab": {
          "base_uri": "https://localhost:8080/"
        }
      },
      "execution_count": null,
      "outputs": [
        {
          "output_type": "stream",
          "name": "stdout",
          "text": [
            "Enter a no60\n",
            "Enter a no70\n",
            "Enter a no80\n",
            "Enter a no90\n",
            "Enter a no100\n",
            "Enter a no110\n",
            "[10, 20, 30, 40, 50, 60, 70, 80, 90, 100, 110]\n"
          ]
        }
      ]
    },
    {
      "cell_type": "code",
      "source": [
        "# extend method\n",
        "\n",
        "l1 = [10, 20, 30]\n",
        "l2 = [40, 50, 60]\n",
        "\n",
        "l1.extend(l2)\n",
        "l1.extend([70, 80, 90, 100])\n",
        "\n",
        "print(l1)"
      ],
      "metadata": {
        "id": "kqAGgEcqNHka",
        "outputId": "f23cd328-670c-4139-bf10-b45c45f97279",
        "colab": {
          "base_uri": "https://localhost:8080/"
        }
      },
      "execution_count": null,
      "outputs": [
        {
          "output_type": "stream",
          "name": "stdout",
          "text": [
            "[10, 20, 30, 40, 50, 60, 70, 80, 90, 100]\n"
          ]
        }
      ]
    },
    {
      "cell_type": "code",
      "source": [
        "# insert method\n",
        "\n",
        "l1 = [10, 20, 30, 40, 50, 60]\n",
        "\n",
        "l1.insert(0, 1000)\n",
        "l1.insert(3, 2000)\n",
        "\n",
        "print(l1)"
      ],
      "metadata": {
        "id": "59OKB9_dN3rx",
        "outputId": "68e51957-fa3c-4560-c3b7-6f4a46aac15d",
        "colab": {
          "base_uri": "https://localhost:8080/"
        }
      },
      "execution_count": null,
      "outputs": [
        {
          "output_type": "stream",
          "name": "stdout",
          "text": [
            "[1000, 10, 20, 2000, 30, 40, 50, 60]\n"
          ]
        }
      ]
    },
    {
      "cell_type": "code",
      "source": [
        "# remove method\n",
        "\n",
        "l1 = [10, 10, 20, 30, 40]\n",
        "\n",
        "l1.remove(10)\n",
        "\n",
        "print(l1)"
      ],
      "metadata": {
        "id": "s1kBMHHlO9xW",
        "outputId": "5a9368ee-176b-4db3-f2a9-15b6f63e392b",
        "colab": {
          "base_uri": "https://localhost:8080/"
        }
      },
      "execution_count": null,
      "outputs": [
        {
          "output_type": "stream",
          "name": "stdout",
          "text": [
            "[10, 20, 30, 40]\n"
          ]
        }
      ]
    },
    {
      "cell_type": "code",
      "source": [
        "# pop method\n",
        "\n",
        "l1 = [10, 20, 30, 40]\n",
        "\n",
        "result = l1.pop()\n",
        "\n",
        "print(result)\n",
        "print(l1)\n",
        "\n",
        "result = l1.pop(2)\n",
        "\n",
        "print(result)\n",
        "print(l1)"
      ],
      "metadata": {
        "id": "RdMgyv0xPqSd",
        "outputId": "e2b8a791-086d-4949-ce4d-068db53a14fc",
        "colab": {
          "base_uri": "https://localhost:8080/"
        }
      },
      "execution_count": null,
      "outputs": [
        {
          "output_type": "stream",
          "name": "stdout",
          "text": [
            "40\n",
            "[10, 20, 30]\n",
            "30\n",
            "[10, 20]\n"
          ]
        }
      ]
    },
    {
      "cell_type": "code",
      "source": [
        "# clear method\n",
        "\n",
        "l1 = [10, 20, 30]\n",
        "\n",
        "print(l1)\n",
        "\n",
        "l1.clear()\n",
        "\n",
        "print(l1)"
      ],
      "metadata": {
        "id": "xdwtm2flQ1Dh",
        "outputId": "6ab9f1bf-7e5d-4c77-fba2-d58189681ee6",
        "colab": {
          "base_uri": "https://localhost:8080/"
        }
      },
      "execution_count": null,
      "outputs": [
        {
          "output_type": "stream",
          "name": "stdout",
          "text": [
            "[10, 20, 30]\n",
            "[]\n"
          ]
        }
      ]
    },
    {
      "cell_type": "code",
      "source": [
        "l1 = [10, 20, 10, 30, 20, 45]\n",
        "\n",
        "print(len(l1))\n",
        "\n",
        "del l1[2:5:2]\n",
        "\n",
        "print(l1)"
      ],
      "metadata": {
        "id": "2CI4ucdQYopv",
        "outputId": "f6481509-175a-4c23-df2d-23f0e2466a3c",
        "colab": {
          "base_uri": "https://localhost:8080/"
        }
      },
      "execution_count": null,
      "outputs": [
        {
          "output_type": "stream",
          "name": "stdout",
          "text": [
            "6\n",
            "[10, 20, 30, 45]\n"
          ]
        }
      ]
    },
    {
      "cell_type": "code",
      "source": [
        "l1 = [10, 20, 10, 30, 20, 45]\n",
        "\n",
        "l = len(l1)\n",
        "\n",
        "l2 = []\n",
        "\n",
        "for i in range(l):\n",
        "  if l1[i] not in l2:\n",
        "    l2.append(l1[i])\n",
        "\n",
        "print(l2)"
      ],
      "metadata": {
        "id": "sjl6RIePdMKF",
        "outputId": "01c80c60-fa9f-4303-f540-c31f47c8bb05",
        "colab": {
          "base_uri": "https://localhost:8080/"
        }
      },
      "execution_count": null,
      "outputs": [
        {
          "output_type": "stream",
          "name": "stdout",
          "text": [
            "[10, 20, 30, 45]\n"
          ]
        }
      ]
    },
    {
      "cell_type": "code",
      "source": [
        "l1 = [10, 20, 10, 30, 20, 45]\n",
        "\n",
        "l2 = []\n",
        "\n",
        "for i in l1:\n",
        "  if i not in l2:\n",
        "    l2.append(i)\n",
        "\n",
        "print(l1)\n",
        "print(l2)\n"
      ],
      "metadata": {
        "id": "hLlRtP7vgHOv",
        "outputId": "4a020d11-590b-40f1-99b7-bae8d830a029",
        "colab": {
          "base_uri": "https://localhost:8080/"
        }
      },
      "execution_count": null,
      "outputs": [
        {
          "output_type": "stream",
          "name": "stdout",
          "text": [
            "[10, 20, 10, 30, 20, 45]\n",
            "[10, 20, 30, 45]\n"
          ]
        }
      ]
    },
    {
      "cell_type": "code",
      "source": [
        "l1 = [10, 20, 10, 30, 20, 45, 45]\n",
        "\n",
        "m1 = max(l1)\n",
        "\n",
        "while m1 in l1:\n",
        "  l1.remove(m1)\n",
        "\n",
        "m2 = max(l1)\n",
        "\n",
        "print(m2)"
      ],
      "metadata": {
        "id": "fNoX_ba3j3tb",
        "outputId": "65c8bc6c-321e-49ed-bf35-240ea4b3745a",
        "colab": {
          "base_uri": "https://localhost:8080/"
        }
      },
      "execution_count": null,
      "outputs": [
        {
          "output_type": "stream",
          "name": "stdout",
          "text": [
            "30\n"
          ]
        }
      ]
    },
    {
      "cell_type": "code",
      "source": [
        "# list() method\n",
        "\n",
        "l1 = list()\n",
        "print(l1)\n",
        "print(type(l1))"
      ],
      "metadata": {
        "id": "72U0dL2T946G",
        "outputId": "6f24a361-b576-4963-fb0b-6cdddbe9196c",
        "colab": {
          "base_uri": "https://localhost:8080/"
        }
      },
      "execution_count": null,
      "outputs": [
        {
          "output_type": "stream",
          "name": "stdout",
          "text": [
            "[]\n",
            "<class 'list'>\n"
          ]
        }
      ]
    },
    {
      "cell_type": "code",
      "source": [
        "s = \"NTT DATA\"\n",
        "\n",
        "l2 = list(s)\n",
        "\n",
        "print(l2)"
      ],
      "metadata": {
        "id": "WTITWFor-Py8",
        "outputId": "fdad7e7f-5d8f-49e9-c893-95c28ac6d66f",
        "colab": {
          "base_uri": "https://localhost:8080/"
        }
      },
      "execution_count": null,
      "outputs": [
        {
          "output_type": "stream",
          "name": "stdout",
          "text": [
            "['N', 'T', 'T', ' ', 'D', 'A', 'T', 'A']\n"
          ]
        }
      ]
    },
    {
      "cell_type": "code",
      "source": [
        "l3 = list(range(1, 6))\n",
        "\n",
        "print(l3)"
      ],
      "metadata": {
        "id": "-9xX7NdD-yZc",
        "outputId": "ae07cd8a-300d-47b0-8758-98e3bc938e87",
        "colab": {
          "base_uri": "https://localhost:8080/"
        }
      },
      "execution_count": null,
      "outputs": [
        {
          "output_type": "stream",
          "name": "stdout",
          "text": [
            "[1, 2, 3, 4, 5]\n"
          ]
        }
      ]
    },
    {
      "cell_type": "code",
      "source": [
        "l1 = [2, 3, 3, 4, 4, 4, 2, 6, 7, 8, 6]\n",
        "\n",
        "ul1 = []\n",
        "\n",
        "cl1 = []\n",
        "\n",
        "for i in l1:\n",
        "  if i not in ul1:\n",
        "    ul1.append(i)\n",
        "\n",
        "for i in ul1:\n",
        "  count = 0\n",
        "  for j in l1:\n",
        "    if j == i:\n",
        "      count = count + 1\n",
        "  cl1.append(count)\n",
        "\n",
        "print(ul1)\n",
        "print(cl1)"
      ],
      "metadata": {
        "id": "HJIpslZxCz2_",
        "outputId": "0b5af6ad-908c-4a43-8a19-f0968ea8b368",
        "colab": {
          "base_uri": "https://localhost:8080/"
        }
      },
      "execution_count": null,
      "outputs": [
        {
          "output_type": "stream",
          "name": "stdout",
          "text": [
            "[2, 3, 4, 6, 7, 8]\n",
            "[2, 2, 3, 2, 1, 1]\n"
          ]
        }
      ]
    },
    {
      "cell_type": "code",
      "source": [
        "l1 = [2, 3, 3, 4, 4, 4, 2, 6, 7, 8, 6]\n",
        "\n",
        "ul1 = []\n",
        "\n",
        "cl1 = []\n",
        "\n",
        "for i in l1:\n",
        "  if i not in ul1:\n",
        "    ul1.append(i)\n",
        "    cl1.append(1)\n",
        "  else:\n",
        "    ind = ul1.index(i)\n",
        "    cl1[ind] = cl1[ind] + 1\n",
        "\n",
        "print(ul1)\n",
        "print(cl1)"
      ],
      "metadata": {
        "id": "BoK3KvnqHew9",
        "outputId": "6811a5e8-0661-4e57-f06a-03ea82da91c9",
        "colab": {
          "base_uri": "https://localhost:8080/"
        }
      },
      "execution_count": null,
      "outputs": [
        {
          "output_type": "stream",
          "name": "stdout",
          "text": [
            "[2, 3, 4, 6, 7, 8]\n",
            "[2, 2, 3, 2, 1, 1]\n"
          ]
        }
      ]
    },
    {
      "cell_type": "code",
      "source": [
        "l1 = [2, 3, 3, 4, 4, 4, 2, 6, 7, 8, 6]\n",
        "\n",
        "ul1 = []\n",
        "\n",
        "cl1 = []\n",
        "\n",
        "for i in l1:\n",
        "  if i not in ul1:\n",
        "    ul1.append(i)\n",
        "    cl1.append(l1.count(i))\n",
        "\n",
        "print(l1)\n",
        "print(ul1)\n",
        "print(cl1)"
      ],
      "metadata": {
        "id": "e2tI7FIHKWeo",
        "outputId": "e7685538-ad7b-4e07-a7c9-92bcc1605c0a",
        "colab": {
          "base_uri": "https://localhost:8080/"
        }
      },
      "execution_count": null,
      "outputs": [
        {
          "output_type": "stream",
          "name": "stdout",
          "text": [
            "[2, 3, 3, 4, 4, 4, 2, 6, 7, 8, 6]\n",
            "[2, 3, 4, 6, 7, 8]\n",
            "[2, 2, 3, 2, 1, 1]\n"
          ]
        }
      ]
    },
    {
      "cell_type": "code",
      "source": [
        "# Tuples\n",
        "\n",
        "t1 = (1,2,3,4,3.1,[4,5,6],(7,7,8))\n",
        "print(t1)\n",
        "print(type(t1))"
      ],
      "metadata": {
        "id": "af4n7n69NMZB",
        "outputId": "51a20698-ea58-42a2-f4ad-9f892b22dbe4",
        "colab": {
          "base_uri": "https://localhost:8080/"
        }
      },
      "execution_count": null,
      "outputs": [
        {
          "output_type": "stream",
          "name": "stdout",
          "text": [
            "(1, 2, 3, 4, 3.1, [4, 5, 6], (7, 7, 8))\n",
            "<class 'tuple'>\n"
          ]
        }
      ]
    },
    {
      "cell_type": "code",
      "source": [
        "# tuple() method\n",
        "\n",
        "s = \"NTT DATA\"\n",
        "t2 = tuple(s)\n",
        "\n",
        "print(t2)\n",
        "\n",
        "l1 = [10, 20, 30]\n",
        "t3 = tuple(l1)\n",
        "\n",
        "print(t3)\n",
        "\n",
        "l5 = list(t3)\n",
        "print(l5)"
      ],
      "metadata": {
        "id": "8hph0b99O9XD",
        "outputId": "78e0af6b-4484-4aa5-888f-9e2970f2ccc2",
        "colab": {
          "base_uri": "https://localhost:8080/"
        }
      },
      "execution_count": null,
      "outputs": [
        {
          "output_type": "stream",
          "name": "stdout",
          "text": [
            "('N', 'T', 'T', ' ', 'D', 'A', 'T', 'A')\n",
            "(10, 20, 30)\n",
            "[10, 20, 30]\n"
          ]
        }
      ]
    },
    {
      "cell_type": "code",
      "source": [
        "# tuple with a single element\n",
        "\n",
        "t5 = (6)\n",
        "\n",
        "print(t5)\n",
        "print(type(t5))\n",
        "\n"
      ],
      "metadata": {
        "id": "3bLa5bIfPgf7",
        "outputId": "361a0ab0-7def-4415-e4a6-77eee05bf5f5",
        "colab": {
          "base_uri": "https://localhost:8080/"
        }
      },
      "execution_count": null,
      "outputs": [
        {
          "output_type": "stream",
          "name": "stdout",
          "text": [
            "6\n",
            "<class 'int'>\n"
          ]
        }
      ]
    },
    {
      "cell_type": "code",
      "source": [
        "# tuple with a single element\n",
        "\n",
        "t5 = (6,)\n",
        "\n",
        "print(t5)\n",
        "print(type(t5))"
      ],
      "metadata": {
        "id": "Hi3RPTVaQ15Y",
        "outputId": "4191599e-ba2d-4631-ff87-b65488df0ee7",
        "colab": {
          "base_uri": "https://localhost:8080/"
        }
      },
      "execution_count": null,
      "outputs": [
        {
          "output_type": "stream",
          "name": "stdout",
          "text": [
            "(6,)\n",
            "<class 'tuple'>\n"
          ]
        }
      ]
    },
    {
      "cell_type": "code",
      "source": [
        "i = 5\n",
        "\n",
        "t6 = tuple(i)\n",
        "\n",
        "print(t6)"
      ],
      "metadata": {
        "id": "zrUcNRP2ROcN",
        "outputId": "e3190a9c-e3bd-4656-cd33-d710015e2d53",
        "colab": {
          "base_uri": "https://localhost:8080/",
          "height": 211
        }
      },
      "execution_count": null,
      "outputs": [
        {
          "output_type": "error",
          "ename": "TypeError",
          "evalue": "'int' object is not iterable",
          "traceback": [
            "\u001b[0;31m---------------------------------------------------------------------------\u001b[0m",
            "\u001b[0;31mTypeError\u001b[0m                                 Traceback (most recent call last)",
            "\u001b[0;32m<ipython-input-33-046c72465649>\u001b[0m in \u001b[0;36m<cell line: 0>\u001b[0;34m()\u001b[0m\n\u001b[1;32m      1\u001b[0m \u001b[0mi\u001b[0m \u001b[0;34m=\u001b[0m \u001b[0;36m5\u001b[0m\u001b[0;34m\u001b[0m\u001b[0;34m\u001b[0m\u001b[0m\n\u001b[1;32m      2\u001b[0m \u001b[0;34m\u001b[0m\u001b[0m\n\u001b[0;32m----> 3\u001b[0;31m \u001b[0mt6\u001b[0m \u001b[0;34m=\u001b[0m \u001b[0mtuple\u001b[0m\u001b[0;34m(\u001b[0m\u001b[0mi\u001b[0m\u001b[0;34m)\u001b[0m\u001b[0;34m\u001b[0m\u001b[0;34m\u001b[0m\u001b[0m\n\u001b[0m\u001b[1;32m      4\u001b[0m \u001b[0;34m\u001b[0m\u001b[0m\n\u001b[1;32m      5\u001b[0m \u001b[0mprint\u001b[0m\u001b[0;34m(\u001b[0m\u001b[0mt6\u001b[0m\u001b[0;34m)\u001b[0m\u001b[0;34m\u001b[0m\u001b[0;34m\u001b[0m\u001b[0m\n",
            "\u001b[0;31mTypeError\u001b[0m: 'int' object is not iterable"
          ]
        }
      ]
    },
    {
      "cell_type": "code",
      "source": [
        "# Dictionary\n",
        "\n",
        "d1 = {\"name\" : \"Ram\", \"age\" : 30, \"city\" : \"Blr\"}\n",
        "print(d1)\n",
        "print(type(d1))\n",
        "print(d1.keys())\n",
        "print(d1.values())\n",
        "print(d1.items())"
      ],
      "metadata": {
        "id": "j3BqZdm3R-jb",
        "outputId": "6ef3c437-8f8e-4108-b5a2-6708c4ae1962",
        "colab": {
          "base_uri": "https://localhost:8080/"
        }
      },
      "execution_count": 5,
      "outputs": [
        {
          "output_type": "stream",
          "name": "stdout",
          "text": [
            "{'name': 'Ram', 'age': 30, 'city': 'Blr'}\n",
            "<class 'dict'>\n",
            "dict_keys(['name', 'age', 'city'])\n",
            "dict_values(['Ram', 30, 'Blr'])\n",
            "dict_items([('name', 'Ram'), ('age', 30), ('city', 'Blr')])\n"
          ]
        }
      ]
    },
    {
      "cell_type": "code",
      "source": [
        "# create a dictionary\n",
        "\n",
        "d1 = {2 : 100,\n",
        "      4 : 200,\n",
        "      6 : 300,\n",
        "      8 : 400,\n",
        "     10 : 500}\n",
        "\n",
        "print(d1)\n",
        "print(type(d1))\n",
        "\n",
        "print(d1[2])\n",
        "print(d1[10])"
      ],
      "metadata": {
        "id": "rrAmH-_ESmrN",
        "outputId": "20457130-181c-460d-9193-5cb54e93f485",
        "colab": {
          "base_uri": "https://localhost:8080/"
        }
      },
      "execution_count": 7,
      "outputs": [
        {
          "output_type": "stream",
          "name": "stdout",
          "text": [
            "{2: 100, 4: 200, 6: 300, 8: 400, 10: 500}\n",
            "<class 'dict'>\n",
            "100\n",
            "500\n"
          ]
        }
      ]
    },
    {
      "cell_type": "code",
      "source": [
        "d2 = {'aa' : 100,\n",
        "      'bb' : 200,\n",
        "      'cc' : 300}\n",
        "\n",
        "print(d2)\n",
        "\n",
        "print(d2['cc'])"
      ],
      "metadata": {
        "id": "d1kIks5qToZT",
        "outputId": "ce9eb03f-22be-41b6-98e8-255da0c37d43",
        "colab": {
          "base_uri": "https://localhost:8080/"
        }
      },
      "execution_count": 8,
      "outputs": [
        {
          "output_type": "stream",
          "name": "stdout",
          "text": [
            "{'aa': 100, 'bb': 200, 'cc': 300}\n",
            "300\n"
          ]
        }
      ]
    },
    {
      "cell_type": "code",
      "source": [
        "d3 = { 3 : [1, 2, 3],\n",
        "       6 : (4, 5, 6),\n",
        "       9 : \"NTT\"}\n",
        "\n",
        "print(d3)\n",
        "print(d3[3])\n",
        "print(d3[6])\n",
        "print(d3[9])"
      ],
      "metadata": {
        "id": "F5BJHwPYUIk0",
        "outputId": "4b6ce10a-8065-4809-f8cb-635b11eea9fc",
        "colab": {
          "base_uri": "https://localhost:8080/"
        }
      },
      "execution_count": 10,
      "outputs": [
        {
          "output_type": "stream",
          "name": "stdout",
          "text": [
            "{3: [1, 2, 3], 6: (4, 5, 6), 9: 'NTT'}\n",
            "[1, 2, 3]\n",
            "(4, 5, 6)\n",
            "NTT\n",
            "{3: [1, 2, 3], 6: (4, 5, 6), 9: 'NTT'}\n",
            "[1, 2, 3]\n",
            "(4, 5, 6)\n",
            "NTT\n"
          ]
        }
      ]
    },
    {
      "cell_type": "code",
      "source": [
        "d4 = {(1, 2) : 100,\n",
        "      (3, 4) : 200,\n",
        "      (5, 6) : 300}\n",
        "\n",
        "print(d4)\n",
        "print(d4[(1, 2)])"
      ],
      "metadata": {
        "colab": {
          "base_uri": "https://localhost:8080/"
        },
        "id": "vALz63Z-VJQx",
        "outputId": "a8da40bc-85b9-4801-9008-c3ddc431ce60"
      },
      "execution_count": 12,
      "outputs": [
        {
          "output_type": "stream",
          "name": "stdout",
          "text": [
            "{(1, 2): 100, (3, 4): 200, (5, 6): 300}\n",
            "100\n"
          ]
        }
      ]
    },
    {
      "cell_type": "code",
      "source": [],
      "metadata": {
        "id": "n_OquAR_V3uT"
      },
      "execution_count": null,
      "outputs": []
    },
    {
      "cell_type": "code",
      "source": [
        "d4 = {3.14 : 100,\n",
        "      (3, 4) : 200,\n",
        "      \"hi\" : 300}\n",
        "\n",
        "print(d4)\n",
        "print(d4[\"hi\"])"
      ],
      "metadata": {
        "outputId": "b23e359c-de4c-435b-bf5c-8ea7a1c40d17",
        "colab": {
          "base_uri": "https://localhost:8080/"
        },
        "id": "P44NatlVV4Dm"
      },
      "execution_count": 14,
      "outputs": [
        {
          "output_type": "stream",
          "name": "stdout",
          "text": [
            "{3.14: 100, (3, 4): 200, 'hi': 300}\n",
            "300\n"
          ]
        }
      ]
    },
    {
      "cell_type": "code",
      "source": [
        "# iterating through a dictionary\n",
        "\n",
        "d1 = {2 : 100,\n",
        "      4 : 200,\n",
        "      6 : 300,\n",
        "      8 : 400,\n",
        "     10 : 500}\n",
        "\n",
        "for key1 in d1:\n",
        "  print(key1)\n",
        "\n"
      ],
      "metadata": {
        "id": "_23t3AI8-aNv",
        "outputId": "04ac152c-cce1-4caa-e55c-83c5e52c4b1a",
        "colab": {
          "base_uri": "https://localhost:8080/"
        }
      },
      "execution_count": 1,
      "outputs": [
        {
          "output_type": "stream",
          "name": "stdout",
          "text": [
            "2\n",
            "4\n",
            "6\n",
            "8\n",
            "10\n"
          ]
        }
      ]
    },
    {
      "cell_type": "code",
      "source": [
        "# iteration on values\n",
        "\n",
        "d1 = {2 : 100,\n",
        "      4 : 200,\n",
        "      6 : 300,\n",
        "      8 : 400,\n",
        "     10 : 500}\n",
        "\n",
        "for value in d1.values():\n",
        "  print(value)"
      ],
      "metadata": {
        "id": "lyGurXV8_Cz6",
        "outputId": "84d32836-a3fd-4e19-b9c5-92e49346f7de",
        "colab": {
          "base_uri": "https://localhost:8080/"
        }
      },
      "execution_count": 2,
      "outputs": [
        {
          "output_type": "stream",
          "name": "stdout",
          "text": [
            "100\n",
            "200\n",
            "300\n",
            "400\n",
            "500\n"
          ]
        }
      ]
    }
  ]
}